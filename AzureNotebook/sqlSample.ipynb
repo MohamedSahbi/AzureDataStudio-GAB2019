{
    "metadata": {
        "kernelspec": {
            "name": "SQL",
            "display_name": "SQL",
            "language": "sql"
        },
        "language_info": {
            "name": "sql",
            "version": ""
        }
    },
    "nbformat_minor": 2,
    "nbformat": 4,
    "cells": [
        {
            "cell_type": "code",
            "source": "SELECT @@servername",
            "metadata": {},
            "outputs": [],
            "execution_count": 1
        },
        {
            "cell_type": "code",
            "source": "IF @@OPTIONS & 512 <> 0  \r\n    PRINT N'This user has SET NOCOUNT turned ON.';  \r\nELSE  \r\n    PRINT N'This user has SET NOCOUNT turned OFF.';  \r\nGO  ",
            "metadata": {},
            "outputs": [],
            "execution_count": 2
        },
        {
            "cell_type": "code",
            "source": "IF DB_ID() = 1  \r\n    PRINT N'The current database is master.';  \r\nELSE  \r\n    PRINT N'The current database is not master.';  \r\nGO  ",
            "metadata": {},
            "outputs": [],
            "execution_count": 0
        }
    ]
}