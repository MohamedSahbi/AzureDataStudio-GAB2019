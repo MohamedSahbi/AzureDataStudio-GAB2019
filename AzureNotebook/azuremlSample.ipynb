{
    "metadata": {
        "kernelspec": {
            "name": "python3",
            "display_name": "Python 3"
        },
        "language_info": {
            "name": "python",
            "version": "3.6.6",
            "mimetype": "text/x-python",
            "codemirror_mode": {
                "name": "ipython",
                "version": 3
            },
            "pygments_lexer": "ipython3",
            "nbconvert_exporter": "python",
            "file_extension": ".py"
        }
    },
    "nbformat_minor": 2,
    "nbformat": 4,
    "cells": [
        {
            "cell_type": "markdown",
            "source": "# Demo using Azure Machine Learning Data preparation SDK",
            "metadata": {}
        },
        {
            "cell_type": "markdown",
            "source": "For more details about the sdk, check the official documentation [here](https://docs.microsoft.com/en-us/python/api/overview/azure/dataprep/intro?view=azure-dataprep-py)",
            "metadata": {}
        },
        {
            "cell_type": "code",
            "source": "import azureml.dataprep as dprep",
            "metadata": {},
            "outputs": [],
            "execution_count": 6
        },
        {
            "cell_type": "markdown",
            "source": "### Connect and load DB",
            "metadata": {}
        },
        {
            "cell_type": "code",
            "source": "secret=dprep.register_secret(value=\"ChangeYourAdminPassword1\",id=\"SqlAdmin\")\r\nds=dprep.MSSQLDataSource(server_name=\"servername.database.windows.net\",database_name=\"mySampleDatabase\",user_name=\"SqlAdmin\",password=secret)",
            "metadata": {},
            "outputs": [],
            "execution_count": 7
        },
        {
            "cell_type": "markdown",
            "source": "### Run query using read_sql() method",
            "metadata": {}
        },
        {
            "cell_type": "code",
            "source": "dataflow=dprep.read_sql(ds,\"select * from [SalesLT].[Product]\")",
            "metadata": {},
            "outputs": [],
            "execution_count": 8
        },
        {
            "cell_type": "markdown",
            "source": "### Get top rows",
            "metadata": {}
        },
        {
            "cell_type": "code",
            "source": "dataflow.head(3)",
            "metadata": {},
            "outputs": [],
            "execution_count": 11
        },
        {
            "cell_type": "markdown",
            "source": "### Table Summary using get_profile() method",
            "metadata": {}
        },
        {
            "cell_type": "code",
            "source": "dataflow.get_profile()",
            "metadata": {},
            "outputs": [],
            "execution_count": 10
        }
    ]
}